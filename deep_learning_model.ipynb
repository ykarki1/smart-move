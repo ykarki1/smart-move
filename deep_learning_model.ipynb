{
 "cells": [
  {
   "cell_type": "markdown",
   "metadata": {},
   "source": [
    "# Human activity detector by smartphone sensor readings"
   ]
  },
  {
   "cell_type": "code",
   "execution_count": 1,
   "metadata": {},
   "outputs": [],
   "source": [
    "#importing dependancies\n",
    "import numpy as np\n",
    "import pandas as pd\n",
    "import matplotlib.pyplot as plt\n",
    "\n",
    "import tensorflow as tf\n",
    "from tensorflow.keras.models import Sequential\n",
    "from tensorflow.keras.utils import to_categorical\n",
    "from tensorflow.keras.layers import Dense"
   ]
  },
  {
   "cell_type": "markdown",
   "metadata": {},
   "source": [
    "## Reading in the dataset"
   ]
  },
  {
   "cell_type": "code",
   "execution_count": 2,
   "metadata": {},
   "outputs": [],
   "source": [
    "#Training data\n",
    "X_train = pd.read_csv(\"Dataset/Train/X_train.txt\", sep = \" \", header = None)\n",
    "y_train = pd.read_csv(\"Dataset/Train/y_train.txt\", sep = \" \", header = None)\n",
    "\n",
    "#Testing data\n",
    "X_test = pd.read_csv(\"Dataset/Test/X_test.txt\", sep = \" \", header = None)\n",
    "y_test = pd.read_csv(\"Dataset/Test/y_test.txt\", sep = \" \", header = None)\n",
    "\n",
    "#activity labels\n",
    "y_labels = pd.read_csv(\"Dataset/activity_labels.txt\", header = None)\n",
    "\n",
    "#feature labels\n",
    "features = pd.read_csv(\"Dataset/features.txt\", header = None)"
   ]
  },
  {
   "cell_type": "markdown",
   "metadata": {},
   "source": [
    "## Pre-processing the data"
   ]
  },
  {
   "cell_type": "code",
   "execution_count": 3,
   "metadata": {},
   "outputs": [],
   "source": [
    "# Convert the dataframe to a numpy array for Keras\n",
    "X_train_arr = X_train.values\n",
    "X_test_arr = X_test.values\n",
    "\n",
    "# One-hot encoding the labels\n",
    "y_train_arr =  to_categorical(y_train)\n",
    "y_test_arr = to_categorical(y_test)\n"
   ]
  },
  {
   "cell_type": "markdown",
   "metadata": {},
   "source": [
    "## Building deep neural network with training data"
   ]
  },
  {
   "cell_type": "code",
   "execution_count": 4,
   "metadata": {},
   "outputs": [],
   "source": [
    "# An empty sequential model\n",
    "model = Sequential()"
   ]
  },
  {
   "cell_type": "code",
   "execution_count": 5,
   "metadata": {},
   "outputs": [
    {
     "name": "stdout",
     "output_type": "stream",
     "text": [
      "WARNING:tensorflow:From /anaconda3/envs/ml/lib/python3.7/site-packages/tensorflow/python/ops/resource_variable_ops.py:435: colocate_with (from tensorflow.python.framework.ops) is deprecated and will be removed in a future version.\n",
      "Instructions for updating:\n",
      "Colocations handled automatically by placer.\n"
     ]
    }
   ],
   "source": [
    "# add the first layer of training data\n",
    "\n",
    "model.add(Dense(100, activation=\"relu\", input_dim = X_train_arr.shape[1]))"
   ]
  },
  {
   "cell_type": "code",
   "execution_count": 6,
   "metadata": {},
   "outputs": [],
   "source": [
    "# Adding second hidden layer\n",
    "model.add(Dense(100, activation = \"relu\"))"
   ]
  },
  {
   "cell_type": "code",
   "execution_count": 7,
   "metadata": {},
   "outputs": [],
   "source": [
    "# Add output layer\n",
    "model.add(Dense(y_train_arr.shape[1], activation = \"softmax\"))"
   ]
  },
  {
   "cell_type": "code",
   "execution_count": 8,
   "metadata": {},
   "outputs": [],
   "source": [
    "# Compile the model\n",
    "# Using categorical_crossentropy for the loss function, adam optimizer and accuracy metric\n",
    "\n",
    "model.compile(loss=\"categorical_crossentropy\", optimizer=\"adam\", metrics = [\"accuracy\"])"
   ]
  },
  {
   "cell_type": "code",
   "execution_count": 10,
   "metadata": {
    "scrolled": true
   },
   "outputs": [
    {
     "name": "stdout",
     "output_type": "stream",
     "text": [
      "Epoch 1/100\n",
      " - 1s - loss: 0.0652 - acc: 0.9758\n",
      "Epoch 2/100\n",
      " - 1s - loss: 0.0793 - acc: 0.9699\n",
      "Epoch 3/100\n",
      " - 1s - loss: 0.0641 - acc: 0.9741\n",
      "Epoch 4/100\n",
      " - 1s - loss: 0.0691 - acc: 0.9732\n",
      "Epoch 5/100\n",
      " - 1s - loss: 0.0649 - acc: 0.9736\n",
      "Epoch 6/100\n",
      " - 1s - loss: 0.0619 - acc: 0.9759\n",
      "Epoch 7/100\n",
      " - 2s - loss: 0.0638 - acc: 0.9753\n",
      "Epoch 8/100\n",
      " - 2s - loss: 0.0580 - acc: 0.9775\n",
      "Epoch 9/100\n",
      " - 1s - loss: 0.0543 - acc: 0.9800\n",
      "Epoch 10/100\n",
      " - 1s - loss: 0.0458 - acc: 0.9831\n",
      "Epoch 11/100\n",
      " - 2s - loss: 0.0642 - acc: 0.9766\n",
      "Epoch 12/100\n",
      " - 1s - loss: 0.0597 - acc: 0.9770\n",
      "Epoch 13/100\n",
      " - 2s - loss: 0.0425 - acc: 0.9834\n",
      "Epoch 14/100\n",
      " - 2s - loss: 0.0461 - acc: 0.9816\n",
      "Epoch 15/100\n",
      " - 1s - loss: 0.0411 - acc: 0.9845\n",
      "Epoch 16/100\n",
      " - 1s - loss: 0.0410 - acc: 0.9847\n",
      "Epoch 17/100\n",
      " - 2s - loss: 0.0385 - acc: 0.9849\n",
      "Epoch 18/100\n",
      " - 2s - loss: 0.0382 - acc: 0.9855\n",
      "Epoch 19/100\n",
      " - 1s - loss: 0.0375 - acc: 0.9845\n",
      "Epoch 20/100\n",
      " - 1s - loss: 0.0517 - acc: 0.9803\n",
      "Epoch 21/100\n",
      " - 2s - loss: 0.0413 - acc: 0.9831\n",
      "Epoch 22/100\n",
      " - 1s - loss: 0.0336 - acc: 0.9876\n",
      "Epoch 23/100\n",
      " - 2s - loss: 0.0344 - acc: 0.9865\n",
      "Epoch 24/100\n",
      " - 2s - loss: 0.0436 - acc: 0.9827\n",
      "Epoch 25/100\n",
      " - 1s - loss: 0.0424 - acc: 0.9829\n",
      "Epoch 26/100\n",
      " - 2s - loss: 0.0452 - acc: 0.9835\n",
      "Epoch 27/100\n",
      " - 2s - loss: 0.0373 - acc: 0.9857\n",
      "Epoch 28/100\n",
      " - 2s - loss: 0.0334 - acc: 0.9879\n",
      "Epoch 29/100\n",
      " - 1s - loss: 0.0359 - acc: 0.9839\n",
      "Epoch 30/100\n",
      " - 2s - loss: 0.0217 - acc: 0.9928\n",
      "Epoch 31/100\n",
      " - 2s - loss: 0.0476 - acc: 0.9849\n",
      "Epoch 32/100\n",
      " - 2s - loss: 0.0296 - acc: 0.9885\n",
      "Epoch 33/100\n",
      " - 1s - loss: 0.0213 - acc: 0.9927\n",
      "Epoch 34/100\n",
      " - 2s - loss: 0.0289 - acc: 0.9889\n",
      "Epoch 35/100\n",
      " - 2s - loss: 0.0293 - acc: 0.9896\n",
      "Epoch 36/100\n",
      " - 2s - loss: 0.0331 - acc: 0.9885\n",
      "Epoch 37/100\n",
      " - 1s - loss: 0.0294 - acc: 0.9905\n",
      "Epoch 38/100\n",
      " - 2s - loss: 0.0263 - acc: 0.9905\n",
      "Epoch 39/100\n",
      " - 2s - loss: 0.0341 - acc: 0.9879\n",
      "Epoch 40/100\n",
      " - 2s - loss: 0.0255 - acc: 0.9905\n",
      "Epoch 41/100\n",
      " - 1s - loss: 0.0317 - acc: 0.9869\n",
      "Epoch 42/100\n",
      " - 2s - loss: 0.0242 - acc: 0.9919\n",
      "Epoch 43/100\n",
      " - 2s - loss: 0.0206 - acc: 0.9921\n",
      "Epoch 44/100\n",
      " - 1s - loss: 0.0170 - acc: 0.9930\n",
      "Epoch 45/100\n",
      " - 2s - loss: 0.0196 - acc: 0.9934\n",
      "Epoch 46/100\n",
      " - 2s - loss: 0.0261 - acc: 0.9918\n",
      "Epoch 47/100\n",
      " - 2s - loss: 0.0297 - acc: 0.9905\n",
      "Epoch 48/100\n",
      " - 1s - loss: 0.0157 - acc: 0.9946\n",
      "Epoch 49/100\n",
      " - 2s - loss: 0.0135 - acc: 0.9951\n",
      "Epoch 50/100\n",
      " - 2s - loss: 0.0325 - acc: 0.9887\n",
      "Epoch 51/100\n",
      " - 1s - loss: 0.0309 - acc: 0.9896\n",
      "Epoch 52/100\n",
      " - 2s - loss: 0.0211 - acc: 0.9924\n",
      "Epoch 53/100\n",
      " - 2s - loss: 0.0115 - acc: 0.9950\n",
      "Epoch 54/100\n",
      " - 2s - loss: 0.0125 - acc: 0.9954\n",
      "Epoch 55/100\n",
      " - 1s - loss: 0.0114 - acc: 0.9958\n",
      "Epoch 56/100\n",
      " - 2s - loss: 0.0128 - acc: 0.9954\n",
      "Epoch 57/100\n",
      " - 2s - loss: 0.0306 - acc: 0.9894\n",
      "Epoch 58/100\n",
      " - 1s - loss: 0.0242 - acc: 0.9906\n",
      "Epoch 59/100\n",
      " - 2s - loss: 0.0086 - acc: 0.9970\n",
      "Epoch 60/100\n",
      " - 2s - loss: 0.0134 - acc: 0.9950\n",
      "Epoch 61/100\n",
      " - 2s - loss: 0.0160 - acc: 0.9938\n",
      "Epoch 62/100\n",
      " - 1s - loss: 0.0329 - acc: 0.9897\n",
      "Epoch 63/100\n",
      " - 2s - loss: 0.0353 - acc: 0.9871\n",
      "Epoch 64/100\n",
      " - 2s - loss: 0.0087 - acc: 0.9974\n",
      "Epoch 65/100\n",
      " - 1s - loss: 0.0045 - acc: 0.9985\n",
      "Epoch 66/100\n",
      " - 2s - loss: 0.0094 - acc: 0.9968\n",
      "Epoch 67/100\n",
      " - 2s - loss: 0.0090 - acc: 0.9967\n",
      "Epoch 68/100\n",
      " - 1s - loss: 0.0177 - acc: 0.9925\n",
      "Epoch 69/100\n",
      " - 2s - loss: 0.0276 - acc: 0.9919\n",
      "Epoch 70/100\n",
      " - 2s - loss: 0.0272 - acc: 0.9906\n",
      "Epoch 71/100\n",
      " - 2s - loss: 0.0255 - acc: 0.9901\n",
      "Epoch 72/100\n",
      " - 1s - loss: 0.0063 - acc: 0.9977\n",
      "Epoch 73/100\n",
      " - 2s - loss: 0.0161 - acc: 0.9948\n",
      "Epoch 74/100\n",
      " - 2s - loss: 0.0089 - acc: 0.9976\n",
      "Epoch 75/100\n",
      " - 1s - loss: 0.0084 - acc: 0.9969\n",
      "Epoch 76/100\n",
      " - 2s - loss: 0.0080 - acc: 0.9963\n",
      "Epoch 77/100\n",
      " - 2s - loss: 0.0027 - acc: 0.9995\n",
      "Epoch 78/100\n",
      " - 2s - loss: 0.0513 - acc: 0.9878\n",
      "Epoch 79/100\n",
      " - 1s - loss: 0.0368 - acc: 0.9870\n",
      "Epoch 80/100\n",
      " - 2s - loss: 0.0098 - acc: 0.9970\n",
      "Epoch 81/100\n",
      " - 2s - loss: 0.0046 - acc: 0.9991\n",
      "Epoch 82/100\n",
      " - 1s - loss: 0.0052 - acc: 0.9990\n",
      "Epoch 83/100\n",
      " - 2s - loss: 0.0044 - acc: 0.9983\n",
      "Epoch 84/100\n",
      " - 2s - loss: 0.0129 - acc: 0.9946\n",
      "Epoch 85/100\n",
      " - 2s - loss: 0.0196 - acc: 0.9941\n",
      "Epoch 86/100\n",
      " - 1s - loss: 0.0104 - acc: 0.9960\n",
      "Epoch 87/100\n",
      " - 2s - loss: 0.0180 - acc: 0.9942\n",
      "Epoch 88/100\n",
      " - 2s - loss: 0.0164 - acc: 0.9951\n",
      "Epoch 89/100\n",
      " - 2s - loss: 0.0126 - acc: 0.9942\n",
      "Epoch 90/100\n",
      " - 1s - loss: 0.0123 - acc: 0.9954\n",
      "Epoch 91/100\n",
      " - 2s - loss: 0.0149 - acc: 0.9956\n",
      "Epoch 92/100\n",
      " - 2s - loss: 0.0013 - acc: 1.0000\n",
      "Epoch 93/100\n",
      " - 1s - loss: 0.0026 - acc: 0.9992\n",
      "Epoch 94/100\n",
      " - 2s - loss: 0.0186 - acc: 0.9938\n",
      "Epoch 95/100\n",
      " - 2s - loss: 0.0098 - acc: 0.9968\n",
      "Epoch 96/100\n",
      " - 2s - loss: 0.0222 - acc: 0.9912\n",
      "Epoch 97/100\n",
      " - 1s - loss: 0.0059 - acc: 0.9982\n",
      "Epoch 98/100\n",
      " - 2s - loss: 0.0036 - acc: 0.9991\n",
      "Epoch 99/100\n",
      " - 2s - loss: 0.0072 - acc: 0.9976\n",
      "Epoch 100/100\n",
      " - 2s - loss: 0.0281 - acc: 0.9892\n"
     ]
    },
    {
     "data": {
      "text/plain": [
       "<tensorflow.python.keras.callbacks.History at 0xb3b5220b8>"
      ]
     },
     "execution_count": 10,
     "metadata": {},
     "output_type": "execute_result"
    }
   ],
   "source": [
    "# Train the model\n",
    "model.fit(X_train_arr, y_train_arr, epochs = 100, shuffle = True, verbose =2)"
   ]
  },
  {
   "cell_type": "code",
   "execution_count": 11,
   "metadata": {},
   "outputs": [],
   "source": [
    "# save the trained model\n",
    "model.save(\"deep_learning_model.h5\")"
   ]
  },
  {
   "cell_type": "markdown",
   "metadata": {},
   "source": [
    "## Evaluate the model with test data"
   ]
  },
  {
   "cell_type": "code",
   "execution_count": 12,
   "metadata": {},
   "outputs": [],
   "source": [
    "# Load the saved model\n",
    "from tensorflow.keras.models import load_model\n",
    "model = load_model(\"deep_learning_model.h5\")"
   ]
  },
  {
   "cell_type": "code",
   "execution_count": 13,
   "metadata": {},
   "outputs": [
    {
     "name": "stdout",
     "output_type": "stream",
     "text": [
      "Loss: 0.3647667979067194, Accuracy: 0.9332700967788696\n"
     ]
    }
   ],
   "source": [
    "# Evaluate\n",
    "model_loss, model_accuracy = model.evaluate(X_test_arr, y_test_arr, verbose =3)\n",
    "print(f\"Loss: {model_loss}, Accuracy: {model_accuracy}\")"
   ]
  },
  {
   "cell_type": "code",
   "execution_count": 21,
   "metadata": {},
   "outputs": [
    {
     "name": "stdout",
     "output_type": "stream",
     "text": [
      "Which row you want to start from?(Range 1-3162) \n",
      "2310\n",
      "Which row you want it to end?\n",
      "2340\n",
      " OBSERVED: WALKING_UPSTAIRS\t\t   PREDICTED: WALKING_UPSTAIRS\n",
      " OBSERVED: WALKING_UPSTAIRS\t\t   PREDICTED: WALKING_UPSTAIRS\n",
      " OBSERVED: WALKING_UPSTAIRS\t\t   PREDICTED: WALKING_UPSTAIRS\n",
      " OBSERVED: SITTING\t\t   PREDICTED: WALKING_DOWNSTAIRS\n",
      " OBSERVED: SITTING\t\t   PREDICTED: SITTING\n",
      " OBSERVED: SITTING\t\t   PREDICTED: SITTING\n",
      " OBSERVED: SITTING\t\t   PREDICTED: SITTING\n",
      " OBSERVED: SITTING\t\t   PREDICTED: SITTING\n",
      " OBSERVED: SITTING\t\t   PREDICTED: SITTING\n",
      " OBSERVED: SITTING\t\t   PREDICTED: SITTING\n",
      " OBSERVED: SITTING\t\t   PREDICTED: SITTING\n",
      " OBSERVED: SITTING\t\t   PREDICTED: SITTING\n",
      " OBSERVED: WALKING_DOWNSTAIRS\t\t   PREDICTED: WALKING_DOWNSTAIRS\n",
      " OBSERVED: WALKING_DOWNSTAIRS\t\t   PREDICTED: WALKING_DOWNSTAIRS\n",
      " OBSERVED: WALKING_DOWNSTAIRS\t\t   PREDICTED: WALKING_DOWNSTAIRS\n",
      " OBSERVED: WALKING_DOWNSTAIRS\t\t   PREDICTED: WALKING_DOWNSTAIRS\n",
      " OBSERVED: WALKING_DOWNSTAIRS\t\t   PREDICTED: WALKING_DOWNSTAIRS\n",
      " OBSERVED: WALKING_DOWNSTAIRS\t\t   PREDICTED: WALKING_DOWNSTAIRS\n",
      " OBSERVED: WALKING_DOWNSTAIRS\t\t   PREDICTED: WALKING_DOWNSTAIRS\n",
      " OBSERVED: WALKING_DOWNSTAIRS\t\t   PREDICTED: WALKING_DOWNSTAIRS\n",
      " OBSERVED: WALKING_DOWNSTAIRS\t\t   PREDICTED: WALKING_DOWNSTAIRS\n",
      " OBSERVED: SITTING\t\t   PREDICTED: WALKING_DOWNSTAIRS\n",
      " OBSERVED: SITTING\t\t   PREDICTED: WALKING_DOWNSTAIRS\n",
      " OBSERVED: SITTING\t\t   PREDICTED: WALKING_DOWNSTAIRS\n",
      " OBSERVED: SITTING\t\t   PREDICTED: WALKING_DOWNSTAIRS\n",
      " OBSERVED: SITTING\t\t   PREDICTED: WALKING_DOWNSTAIRS\n",
      " OBSERVED: SITTING\t\t   PREDICTED: WALKING_DOWNSTAIRS\n",
      " OBSERVED: SITTING\t\t   PREDICTED: WALKING_DOWNSTAIRS\n",
      " OBSERVED: SITTING\t\t   PREDICTED: WALKING_DOWNSTAIRS\n",
      " OBSERVED: SITTING\t\t   PREDICTED: SITTING\n",
      " OBSERVED: WALKING_DOWNSTAIRS\t\t   PREDICTED: WALKING_DOWNSTAIRS\n"
     ]
    }
   ],
   "source": [
    "# Run this cell to specify the row numbers you want to test/compare\n",
    "\n",
    "# Predict the class of given data\n",
    "\n",
    "def predictor(data):\n",
    "    return model.predict_classes(data)\n",
    "\n",
    "# Decoding the label integer into its actual class name\n",
    "def decoder(num):\n",
    "    return y_labels[0][int(num)].strip().split()[1]\n",
    "\n",
    "def compare(row_num):\n",
    "    test_data = np.expand_dims(X_test_arr[row_num], axis = 0)\n",
    "    print (f\" OBSERVED: {decoder(y_test.iloc[row_num,0])}\\t\\t   PREDICTED: {decoder(predictor(test_data))}\")\n",
    "\n",
    "\n",
    "begin = int(input(\"Which row you want to start from?(Range 1-3162) \\n\"))-1\n",
    "end = int(input(\"Which row you want it to end?\\n\"))\n",
    "for i in range(begin, end):\n",
    "    compare(i)"
   ]
  }
 ],
 "metadata": {
  "kernelspec": {
   "display_name": "Python 3",
   "language": "python",
   "name": "python3"
  },
  "language_info": {
   "codemirror_mode": {
    "name": "ipython",
    "version": 3
   },
   "file_extension": ".py",
   "mimetype": "text/x-python",
   "name": "python",
   "nbconvert_exporter": "python",
   "pygments_lexer": "ipython3",
   "version": "3.7.3"
  }
 },
 "nbformat": 4,
 "nbformat_minor": 2
}
