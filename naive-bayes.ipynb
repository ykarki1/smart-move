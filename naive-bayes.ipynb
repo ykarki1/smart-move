{
 "cells": [
  {
   "cell_type": "markdown",
   "metadata": {},
   "source": [
    "# Human activity detector by smartphone sensor readings"
   ]
  },
  {
   "cell_type": "code",
   "execution_count": 35,
   "metadata": {},
   "outputs": [],
   "source": [
    "#Import Dependencies\n",
    "import pandas as pd\n",
    "import matplotlib.pyplot as plt\n",
    "\n",
    "from sklearn.naive_bayes import GaussianNB\n",
    "from sklearn.naive_bayes import MultinomialNB\n",
    "from sklearn.naive_bayes import ComplementNB\n",
    "from sklearn.naive_bayes import BernoulliNB\n",
    "\n",
    "from sklearn.metrics import classification_report"
   ]
  },
  {
   "cell_type": "code",
   "execution_count": 36,
   "metadata": {},
   "outputs": [],
   "source": [
    "#Training data\n",
    "X_train = pd.read_csv(\"Dataset/Train/X_train.txt\", sep = \" \", header = None)\n",
    "y_train = pd.read_csv(\"Dataset/Train/y_train.txt\", sep = \" \", header = None)\n",
    "\n",
    "#Testing data\n",
    "X_test = pd.read_csv(\"Dataset/Test/X_test.txt\", sep = \" \", header = None)\n",
    "y_test = pd.read_csv(\"Dataset/Test/y_test.txt\", sep = \" \", header = None)\n",
    "\n",
    "#activity labels\n",
    "y_labels = pd.read_csv(\"Dataset/activity_labels.txt\", header = None)\n",
    "\n",
    "#feature labels\n",
    "features = pd.read_csv(\"Dataset/features.txt\", header = None)"
   ]
  },
  {
   "cell_type": "code",
   "execution_count": 37,
   "metadata": {},
   "outputs": [
    {
     "name": "stderr",
     "output_type": "stream",
     "text": [
      "C:\\Users\\Nelson\\.conda\\envs\\MachineLearning\\lib\\site-packages\\sklearn\\utils\\validation.py:724: DataConversionWarning: A column-vector y was passed when a 1d array was expected. Please change the shape of y to (n_samples, ), for example using ravel().\n",
      "  y = column_or_1d(y, warn=True)\n"
     ]
    },
    {
     "name": "stdout",
     "output_type": "stream",
     "text": [
      "              precision    recall  f1-score   support\n",
      "\n",
      "           1       0.83      0.84      0.83       496\n",
      "           2       0.78      0.94      0.85       471\n",
      "           3       0.83      0.61      0.70       420\n",
      "           4       0.55      0.90      0.68       508\n",
      "           5       0.86      0.40      0.54       556\n",
      "           6       1.00      0.86      0.92       545\n",
      "           7       0.27      0.65      0.38        23\n",
      "           8       0.53      0.90      0.67        10\n",
      "           9       0.52      0.75      0.62        32\n",
      "          10       0.41      0.84      0.55        25\n",
      "          11       0.63      0.55      0.59        49\n",
      "          12       0.53      0.30      0.38        27\n",
      "\n",
      "    accuracy                           0.75      3162\n",
      "   macro avg       0.64      0.71      0.64      3162\n",
      "weighted avg       0.79      0.75      0.74      3162\n",
      "\n"
     ]
    }
   ],
   "source": [
    "#Gaussian Naive Bayes\n",
    "gnb = GaussianNB()\n",
    "gnb.fit(X_train, y_train)\n",
    "y_pred_gnb = gnb.predict(X_test)\n",
    "print(classification_report(y_test, y_pred_gnb))"
   ]
  },
  {
   "cell_type": "code",
   "execution_count": 38,
   "metadata": {},
   "outputs": [
    {
     "name": "stdout",
     "output_type": "stream",
     "text": [
      "              precision    recall  f1-score   support\n",
      "\n",
      "           1       0.77      0.57      0.65       496\n",
      "           2       0.82      0.55      0.66       471\n",
      "           3       0.51      0.89      0.65       420\n",
      "           4       0.81      0.72      0.77       508\n",
      "           5       0.79      0.81      0.80       556\n",
      "           6       1.00      0.96      0.98       545\n",
      "           7       0.41      0.61      0.49        23\n",
      "           8       0.82      0.90      0.86        10\n",
      "           9       0.44      0.56      0.49        32\n",
      "          10       0.32      0.48      0.39        25\n",
      "          11       0.60      0.57      0.58        49\n",
      "          12       0.56      0.67      0.61        27\n",
      "\n",
      "    accuracy                           0.75      3162\n",
      "   macro avg       0.65      0.69      0.66      3162\n",
      "weighted avg       0.78      0.75      0.75      3162\n",
      "\n"
     ]
    },
    {
     "name": "stderr",
     "output_type": "stream",
     "text": [
      "C:\\Users\\Nelson\\.conda\\envs\\MachineLearning\\lib\\site-packages\\sklearn\\utils\\validation.py:724: DataConversionWarning: A column-vector y was passed when a 1d array was expected. Please change the shape of y to (n_samples, ), for example using ravel().\n",
      "  y = column_or_1d(y, warn=True)\n"
     ]
    }
   ],
   "source": [
    "#Multinomial Naive Bayes\n",
    "#Transform data from [-1, 1] to [0, 1]\n",
    "from sklearn.preprocessing import MinMaxScaler\n",
    "scaler = MinMaxScaler()\n",
    "X_train_scaled = scaler.fit_transform(X_train)\n",
    "X_test_scaled = scaler.fit_transform(X_test)\n",
    "\n",
    "mnb = MultinomialNB()\n",
    "mnb.fit(X_train_scaled, y_train)\n",
    "y_pred_mnb = mnb.predict(X_test_scaled)\n",
    "print(classification_report(y_test, y_pred_mnb))"
   ]
  },
  {
   "cell_type": "code",
   "execution_count": 39,
   "metadata": {},
   "outputs": [
    {
     "name": "stdout",
     "output_type": "stream",
     "text": [
      "              precision    recall  f1-score   support\n",
      "\n",
      "           1       0.38      0.01      0.01       496\n",
      "           2       0.02      0.00      0.00       471\n",
      "           3       0.28      1.00      0.44       420\n",
      "           4       1.00      0.00      0.01       508\n",
      "           5       0.65      0.98      0.78       556\n",
      "           6       0.71      1.00      0.83       545\n",
      "           7       0.00      0.00      0.00        23\n",
      "           8       0.00      0.00      0.00        10\n",
      "           9       0.00      0.00      0.00        32\n",
      "          10       0.00      0.00      0.00        25\n",
      "          11       0.00      0.00      0.00        49\n",
      "          12       0.00      0.00      0.00        27\n",
      "\n",
      "    accuracy                           0.48      3162\n",
      "   macro avg       0.25      0.25      0.17      3162\n",
      "weighted avg       0.50      0.48      0.34      3162\n",
      "\n"
     ]
    },
    {
     "name": "stderr",
     "output_type": "stream",
     "text": [
      "C:\\Users\\Nelson\\.conda\\envs\\MachineLearning\\lib\\site-packages\\sklearn\\utils\\validation.py:724: DataConversionWarning: A column-vector y was passed when a 1d array was expected. Please change the shape of y to (n_samples, ), for example using ravel().\n",
      "  y = column_or_1d(y, warn=True)\n",
      "C:\\Users\\Nelson\\.conda\\envs\\MachineLearning\\lib\\site-packages\\sklearn\\metrics\\classification.py:1437: UndefinedMetricWarning: Precision and F-score are ill-defined and being set to 0.0 in labels with no predicted samples.\n",
      "  'precision', 'predicted', average, warn_for)\n"
     ]
    }
   ],
   "source": [
    "#Complement Naive Bayes\n",
    "#Transform data from [-1, 1] to [0, 1]\n",
    "from sklearn.preprocessing import MinMaxScaler\n",
    "scaler = MinMaxScaler()\n",
    "X_train_scaled = scaler.fit_transform(X_train)\n",
    "X_test_scaled = scaler.fit_transform(X_test)\n",
    "\n",
    "cnb = ComplementNB()\n",
    "cnb.fit(X_train_scaled, y_train)\n",
    "y_pred_cnb = cnb.predict(X_test_scaled)\n",
    "print(classification_report(y_test, y_pred_cnb))"
   ]
  },
  {
   "cell_type": "code",
   "execution_count": 40,
   "metadata": {},
   "outputs": [
    {
     "name": "stderr",
     "output_type": "stream",
     "text": [
      "C:\\Users\\Nelson\\.conda\\envs\\MachineLearning\\lib\\site-packages\\sklearn\\utils\\validation.py:724: DataConversionWarning: A column-vector y was passed when a 1d array was expected. Please change the shape of y to (n_samples, ), for example using ravel().\n",
      "  y = column_or_1d(y, warn=True)\n"
     ]
    },
    {
     "name": "stdout",
     "output_type": "stream",
     "text": [
      "              precision    recall  f1-score   support\n",
      "\n",
      "           1       0.79      0.84      0.82       496\n",
      "           2       0.77      0.93      0.84       471\n",
      "           3       0.84      0.60      0.70       420\n",
      "           4       0.87      0.74      0.80       508\n",
      "           5       0.80      0.87      0.83       556\n",
      "           6       1.00      0.98      0.99       545\n",
      "           7       0.41      0.83      0.55        23\n",
      "           8       0.62      0.80      0.70        10\n",
      "           9       0.51      0.78      0.62        32\n",
      "          10       0.58      0.72      0.64        25\n",
      "          11       0.62      0.37      0.46        49\n",
      "          12       0.67      0.59      0.63        27\n",
      "\n",
      "    accuracy                           0.82      3162\n",
      "   macro avg       0.71      0.75      0.71      3162\n",
      "weighted avg       0.83      0.82      0.82      3162\n",
      "\n"
     ]
    }
   ],
   "source": [
    "#Bernoulli Naive Bayes\n",
    "bnb = BernoulliNB()\n",
    "bnb.fit(X_train, y_train)\n",
    "y_pred_bnb = bnb.predict(X_test)\n",
    "print(classification_report(y_test, y_pred_bnb))"
   ]
  },
  {
   "cell_type": "code",
   "execution_count": null,
   "metadata": {},
   "outputs": [],
   "source": []
  }
 ],
 "metadata": {
  "kernelspec": {
   "display_name": "Python 3",
   "language": "python",
   "name": "python3"
  },
  "language_info": {
   "codemirror_mode": {
    "name": "ipython",
    "version": 3
   },
   "file_extension": ".py",
   "mimetype": "text/x-python",
   "name": "python",
   "nbconvert_exporter": "python",
   "pygments_lexer": "ipython3",
   "version": "3.7.3"
  }
 },
 "nbformat": 4,
 "nbformat_minor": 2
}
