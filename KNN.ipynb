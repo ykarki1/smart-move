{
 "cells": [
  {
   "cell_type": "code",
   "execution_count": 1,
   "metadata": {},
   "outputs": [],
   "source": [
    "#importing dependancies\n",
    "import pandas as pd\n",
    "import numpy as np\n",
    "import matplotlib.pyplot as plt\n",
    "from sklearn.neighbors import KNeighborsClassifier"
   ]
  },
  {
   "cell_type": "markdown",
   "metadata": {},
   "source": [
    "## Training and Testing data"
   ]
  },
  {
   "cell_type": "code",
   "execution_count": 3,
   "metadata": {},
   "outputs": [],
   "source": [
    "#Training data\n",
    "X_train = pd.read_csv(\"Dataset/Train/X_train.txt\", sep = \" \", header = None)\n",
    "y_train = pd.read_csv(\"Dataset/Train/y_train.txt\", sep = \" \", header = None)\n",
    "\n",
    "#Testing data\n",
    "X_test = pd.read_csv(\"Dataset/Test/X_test.txt\", sep = \" \", header = None)\n",
    "y_test = pd.read_csv(\"Dataset/Test/y_test.txt\", sep = \" \", header = None)\n",
    "\n",
    "#activity labels\n",
    "y_labels = pd.read_csv(\"Dataset/activity_labels.txt\", header = None)\n",
    "\n",
    "#feature labels\n",
    "features = pd.read_csv(\"Dataset/features.txt\", header = None)"
   ]
  },
  {
   "cell_type": "code",
   "execution_count": 4,
   "metadata": {},
   "outputs": [],
   "source": []
  },
  {
   "cell_type": "code",
   "execution_count": 15,
   "metadata": {},
   "outputs": [
    {
     "name": "stdout",
     "output_type": "stream",
     "text": [
      "k: 1, Train/Test Score: 1.000/0.865\n",
      "k: 3, Train/Test Score: 0.986/0.874\n",
      "k: 5, Train/Test Score: 0.976/0.885\n",
      "k: 7, Train/Test Score: 0.970/0.892\n",
      "k: 9, Train/Test Score: 0.965/0.889\n",
      "k: 11, Train/Test Score: 0.963/0.891\n",
      "k: 13, Train/Test Score: 0.959/0.888\n",
      "k: 15, Train/Test Score: 0.956/0.886\n",
      "k: 17, Train/Test Score: 0.955/0.888\n",
      "k: 19, Train/Test Score: 0.954/0.887\n"
     ]
    },
    {
     "data": {
      "image/png": "[encoded data removed]",
      "text/plain": [
       "<Figure size 432x288 with 1 Axes>"
      ]
     },
     "metadata": {
      "needs_background": "light"
     },
     "output_type": "display_data"
    }
   ],
   "source": [
    "train_scores = []\n",
    "test_scores = []\n",
    "for k in range(1, 20, 2):\n",
    "    knn = KNeighborsClassifier(n_neighbors=k)\n",
    "    knn.fit(X_train.values, y_train.values.ravel())\n",
    "    train_score = knn.score(X_train.values, y_train.values.ravel())\n",
    "    test_score = knn.score(X_test.values, y_test.values.ravel())\n",
    "    train_scores.append(train_score)\n",
    "    test_scores.append(test_score)\n",
    "    print(f\"k: {k}, Train/Test Score: {train_score:.3f}/{test_score:.3f}\")\n",
    "    \n",
    "    \n",
    "plt.plot(range(1, 20, 2), train_scores, marker='o')\n",
    "plt.plot(range(1, 20, 2), test_scores, marker=\"x\")\n",
    "plt.xlabel(\"k neighbors\")\n",
    "plt.ylabel(\"Testing accuracy Score\")\n",
    "plt.show()"
   ]
  },
  {
   "cell_type": "code",
   "execution_count": 23,
   "metadata": {},
   "outputs": [
    {
     "name": "stdout",
     "output_type": "stream",
     "text": [
      "k=13 Test Acc: 0.889\n"
     ]
    }
   ],
   "source": [
    "knn = KNeighborsClassifier(n_neighbors=16)\n",
    "knn.fit(X_train.values, y_train.values.ravel())\n",
    "print('k=16 Test Acc: %.3f' % knn.score(X_test.values, y_test.values.ravel()))"
   ]
  },
  {
   "cell_type": "code",
   "execution_count": null,
   "metadata": {},
   "outputs": [],
   "source": []
  }
 ],
 "metadata": {
  "kernelspec": {
   "display_name": "Python 3",
   "language": "python",
   "name": "python3"
  },
  "language_info": {
   "codemirror_mode": {
    "name": "ipython",
    "version": 3
   },
   "file_extension": ".py",
   "mimetype": "text/x-python",
   "name": "python",
   "nbconvert_exporter": "python",
   "pygments_lexer": "ipython3",
   "version": "3.7.3"
  }
 },
 "nbformat": 4,
 "nbformat_minor": 2
}
